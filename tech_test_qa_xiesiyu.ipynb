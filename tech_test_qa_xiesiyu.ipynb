{
 "cells": [
  {
   "cell_type": "code",
   "execution_count": 341,
   "metadata": {},
   "outputs": [],
   "source": [
    "import psycopg2\n",
    "import pandas as pd\n",
    "import re\n",
    "import os\n",
    "from dotenv import load_dotenv"
   ]
  },
  {
   "cell_type": "code",
   "execution_count": 342,
   "metadata": {},
   "outputs": [],
   "source": [
    "load_dotenv('.env')\n",
    "HOST_NAME = os.environ.get('HOST_NAME')\n",
    "DB_NAME = os.environ.get('DB_NAME')\n",
    "USER_NAME = os.environ.get('USER_NAME')\n",
    "PASSWORD = os.environ.get('PASSWORD')"
   ]
  },
  {
   "cell_type": "code",
   "execution_count": 343,
   "metadata": {},
   "outputs": [],
   "source": [
    "conn = psycopg2.connect(host=HOST_NAME, user=USER_NAME, password=PASSWORD, database=DB_NAME)"
   ]
  },
  {
   "cell_type": "code",
   "execution_count": 344,
   "metadata": {},
   "outputs": [],
   "source": [
    "users = pd.read_sql('select * from users',conn)\n",
    "trades = pd.read_sql('select * from trades',conn)\n",
    "conn.close()"
   ]
  },
  {
   "cell_type": "code",
   "execution_count": 346,
   "metadata": {},
   "outputs": [
    {
     "data": {
      "text/plain": [
       "login_hash      object\n",
       "server_hash     object\n",
       "country_hash    object\n",
       "currency        object\n",
       "enable           int64\n",
       "dtype: object"
      ]
     },
     "execution_count": 346,
     "metadata": {},
     "output_type": "execute_result"
    }
   ],
   "source": [
    "users.dtypes"
   ]
  },
  {
   "cell_type": "code",
   "execution_count": 349,
   "metadata": {},
   "outputs": [],
   "source": [
    "#object to string\n",
    "users[['login_hash','server_hash','country_hash','currency']] = users[['login_hash','server_hash','country_hash','currency']].astype(str)"
   ]
  },
  {
   "cell_type": "code",
   "execution_count": 347,
   "metadata": {},
   "outputs": [
    {
     "data": {
      "text/plain": [
       "login_hash              object\n",
       "ticket_hash             object\n",
       "server_hash             object\n",
       "symbol                  object\n",
       "digits                   int64\n",
       "cmd                      int64\n",
       "volume                   int64\n",
       "open_time       datetime64[ns]\n",
       "open_price             float64\n",
       "close_time      datetime64[ns]\n",
       "contractsize           float64\n",
       "dtype: object"
      ]
     },
     "execution_count": 347,
     "metadata": {},
     "output_type": "execute_result"
    }
   ],
   "source": [
    "trades.dtypes"
   ]
  },
  {
   "cell_type": "code",
   "execution_count": 350,
   "metadata": {},
   "outputs": [],
   "source": [
    "#object to stirng\n",
    "trades[['login_hash','ticket_hash','server_hash','symbol']] = trades[['login_hash','ticket_hash','server_hash','symbol']].astype(str)"
   ]
  },
  {
   "cell_type": "code",
   "execution_count": 351,
   "metadata": {},
   "outputs": [
    {
     "data": {
      "text/html": [
       "<div>\n",
       "<style scoped>\n",
       "    .dataframe tbody tr th:only-of-type {\n",
       "        vertical-align: middle;\n",
       "    }\n",
       "\n",
       "    .dataframe tbody tr th {\n",
       "        vertical-align: top;\n",
       "    }\n",
       "\n",
       "    .dataframe thead th {\n",
       "        text-align: right;\n",
       "    }\n",
       "</style>\n",
       "<table border=\"1\" class=\"dataframe\">\n",
       "  <thead>\n",
       "    <tr style=\"text-align: right;\">\n",
       "      <th></th>\n",
       "      <th>login_hash</th>\n",
       "      <th>server_hash</th>\n",
       "      <th>country_hash</th>\n",
       "      <th>currency</th>\n",
       "      <th>enable</th>\n",
       "    </tr>\n",
       "  </thead>\n",
       "  <tbody>\n",
       "    <tr>\n",
       "      <th>0</th>\n",
       "      <td>03A15F382AF3D505592CA69EFD4DC431</td>\n",
       "      <td>76791A893BDB9A68E8EE44898D581A60</td>\n",
       "      <td>AE54A5C026F31ADA088992587D92CB3A</td>\n",
       "      <td>USD</td>\n",
       "      <td>1</td>\n",
       "    </tr>\n",
       "    <tr>\n",
       "      <th>1</th>\n",
       "      <td>F8ADF5FF9840712CE2AF7FA9EA2A3FA7</td>\n",
       "      <td>76791A893BDB9A68E8EE44898D581A60</td>\n",
       "      <td>AE54A5C026F31ADA088992587D92CB3A</td>\n",
       "      <td>USD</td>\n",
       "      <td>1</td>\n",
       "    </tr>\n",
       "    <tr>\n",
       "      <th>2</th>\n",
       "      <td>B78CD788AB20A5D61CB13BD5389CABB3</td>\n",
       "      <td>76791A893BDB9A68E8EE44898D581A60</td>\n",
       "      <td>AE54A5C026F31ADA088992587D92CB3A</td>\n",
       "      <td>USD</td>\n",
       "      <td>1</td>\n",
       "    </tr>\n",
       "    <tr>\n",
       "      <th>3</th>\n",
       "      <td>DEFB729116227EF8582BFEC65F998489</td>\n",
       "      <td>76791A893BDB9A68E8EE44898D581A60</td>\n",
       "      <td>103357E3E40A9C0E4E9D36110F7BBC7A</td>\n",
       "      <td>USD</td>\n",
       "      <td>1</td>\n",
       "    </tr>\n",
       "    <tr>\n",
       "      <th>4</th>\n",
       "      <td>9EAD9A73AA6C93823C56BB8C2E798B45</td>\n",
       "      <td>76791A893BDB9A68E8EE44898D581A60</td>\n",
       "      <td>AE54A5C026F31ADA088992587D92CB3A</td>\n",
       "      <td>USD</td>\n",
       "      <td>1</td>\n",
       "    </tr>\n",
       "  </tbody>\n",
       "</table>\n",
       "</div>"
      ],
      "text/plain": [
       "                         login_hash                       server_hash  \\\n",
       "0  03A15F382AF3D505592CA69EFD4DC431  76791A893BDB9A68E8EE44898D581A60   \n",
       "1  F8ADF5FF9840712CE2AF7FA9EA2A3FA7  76791A893BDB9A68E8EE44898D581A60   \n",
       "2  B78CD788AB20A5D61CB13BD5389CABB3  76791A893BDB9A68E8EE44898D581A60   \n",
       "3  DEFB729116227EF8582BFEC65F998489  76791A893BDB9A68E8EE44898D581A60   \n",
       "4  9EAD9A73AA6C93823C56BB8C2E798B45  76791A893BDB9A68E8EE44898D581A60   \n",
       "\n",
       "                       country_hash currency  enable  \n",
       "0  AE54A5C026F31ADA088992587D92CB3A      USD       1  \n",
       "1  AE54A5C026F31ADA088992587D92CB3A      USD       1  \n",
       "2  AE54A5C026F31ADA088992587D92CB3A      USD       1  \n",
       "3  103357E3E40A9C0E4E9D36110F7BBC7A      USD       1  \n",
       "4  AE54A5C026F31ADA088992587D92CB3A      USD       1  "
      ]
     },
     "execution_count": 351,
     "metadata": {},
     "output_type": "execute_result"
    }
   ],
   "source": [
    "users.head(5)"
   ]
  },
  {
   "cell_type": "code",
   "execution_count": 352,
   "metadata": {},
   "outputs": [
    {
     "data": {
      "text/html": [
       "<div>\n",
       "<style scoped>\n",
       "    .dataframe tbody tr th:only-of-type {\n",
       "        vertical-align: middle;\n",
       "    }\n",
       "\n",
       "    .dataframe tbody tr th {\n",
       "        vertical-align: top;\n",
       "    }\n",
       "\n",
       "    .dataframe thead th {\n",
       "        text-align: right;\n",
       "    }\n",
       "</style>\n",
       "<table border=\"1\" class=\"dataframe\">\n",
       "  <thead>\n",
       "    <tr style=\"text-align: right;\">\n",
       "      <th></th>\n",
       "      <th>login_hash</th>\n",
       "      <th>ticket_hash</th>\n",
       "      <th>server_hash</th>\n",
       "      <th>symbol</th>\n",
       "      <th>digits</th>\n",
       "      <th>cmd</th>\n",
       "      <th>volume</th>\n",
       "      <th>open_time</th>\n",
       "      <th>open_price</th>\n",
       "      <th>close_time</th>\n",
       "      <th>contractsize</th>\n",
       "    </tr>\n",
       "  </thead>\n",
       "  <tbody>\n",
       "    <tr>\n",
       "      <th>0</th>\n",
       "      <td>0DF500A57244E5B1670277767BEBB554</td>\n",
       "      <td>B321DC57F3B410507B986DD8962F8B1C</td>\n",
       "      <td>2F1CA40D76D7E6165DBA3924CE0D3B5C</td>\n",
       "      <td>EURUSD</td>\n",
       "      <td>5</td>\n",
       "      <td>1</td>\n",
       "      <td>5</td>\n",
       "      <td>2020-08-19 12:19:11</td>\n",
       "      <td>1.19459</td>\n",
       "      <td>2020-08-19 12:48:09</td>\n",
       "      <td>100000.0</td>\n",
       "    </tr>\n",
       "    <tr>\n",
       "      <th>1</th>\n",
       "      <td>6D66E192834605522190E51BF226FF5B</td>\n",
       "      <td>F68DA930EE1129D94EDFA02EBAF9E7B4</td>\n",
       "      <td>2F1CA40D76D7E6165DBA3924CE0D3B5C</td>\n",
       "      <td>XAUUSD</td>\n",
       "      <td>2</td>\n",
       "      <td>1</td>\n",
       "      <td>1</td>\n",
       "      <td>2020-08-28 03:09:02</td>\n",
       "      <td>1925.48000</td>\n",
       "      <td>2020-08-28 06:03:45</td>\n",
       "      <td>100.0</td>\n",
       "    </tr>\n",
       "    <tr>\n",
       "      <th>2</th>\n",
       "      <td>04852EC1A7D9FB8A291A24DDCE8C62B9</td>\n",
       "      <td>E351B480079ADEC7F6E6BE3ACEEA6EDF</td>\n",
       "      <td>2F1CA40D76D7E6165DBA3924CE0D3B5C</td>\n",
       "      <td>EURGBP</td>\n",
       "      <td>5</td>\n",
       "      <td>0</td>\n",
       "      <td>10</td>\n",
       "      <td>2020-08-25 13:47:34</td>\n",
       "      <td>0.90157</td>\n",
       "      <td>2020-09-08 12:20:43</td>\n",
       "      <td>100000.0</td>\n",
       "    </tr>\n",
       "    <tr>\n",
       "      <th>3</th>\n",
       "      <td>E62BE617269467931F2239C2771605C2</td>\n",
       "      <td>363723A73A926A7434E815F2F1D5ED61</td>\n",
       "      <td>2F1CA40D76D7E6165DBA3924CE0D3B5C</td>\n",
       "      <td>XAUUSD</td>\n",
       "      <td>2</td>\n",
       "      <td>1</td>\n",
       "      <td>10</td>\n",
       "      <td>2020-08-28 02:46:57</td>\n",
       "      <td>1926.68000</td>\n",
       "      <td>2020-08-28 02:51:13</td>\n",
       "      <td>100.0</td>\n",
       "    </tr>\n",
       "    <tr>\n",
       "      <th>4</th>\n",
       "      <td>54D2B4C5ECAE5FBC316524329846F81E</td>\n",
       "      <td>9CD4110328DA4CD71FFE0BE486D51094</td>\n",
       "      <td>2F1CA40D76D7E6165DBA3924CE0D3B5C</td>\n",
       "      <td>XAUUSD</td>\n",
       "      <td>2</td>\n",
       "      <td>1</td>\n",
       "      <td>85</td>\n",
       "      <td>2020-08-11 09:27:28</td>\n",
       "      <td>1999.12000</td>\n",
       "      <td>2020-08-11 09:27:54</td>\n",
       "      <td>100.0</td>\n",
       "    </tr>\n",
       "  </tbody>\n",
       "</table>\n",
       "</div>"
      ],
      "text/plain": [
       "                         login_hash                       ticket_hash  \\\n",
       "0  0DF500A57244E5B1670277767BEBB554  B321DC57F3B410507B986DD8962F8B1C   \n",
       "1  6D66E192834605522190E51BF226FF5B  F68DA930EE1129D94EDFA02EBAF9E7B4   \n",
       "2  04852EC1A7D9FB8A291A24DDCE8C62B9  E351B480079ADEC7F6E6BE3ACEEA6EDF   \n",
       "3  E62BE617269467931F2239C2771605C2  363723A73A926A7434E815F2F1D5ED61   \n",
       "4  54D2B4C5ECAE5FBC316524329846F81E  9CD4110328DA4CD71FFE0BE486D51094   \n",
       "\n",
       "                        server_hash  symbol  digits  cmd  volume  \\\n",
       "0  2F1CA40D76D7E6165DBA3924CE0D3B5C  EURUSD       5    1       5   \n",
       "1  2F1CA40D76D7E6165DBA3924CE0D3B5C  XAUUSD       2    1       1   \n",
       "2  2F1CA40D76D7E6165DBA3924CE0D3B5C  EURGBP       5    0      10   \n",
       "3  2F1CA40D76D7E6165DBA3924CE0D3B5C  XAUUSD       2    1      10   \n",
       "4  2F1CA40D76D7E6165DBA3924CE0D3B5C  XAUUSD       2    1      85   \n",
       "\n",
       "            open_time  open_price          close_time  contractsize  \n",
       "0 2020-08-19 12:19:11     1.19459 2020-08-19 12:48:09      100000.0  \n",
       "1 2020-08-28 03:09:02  1925.48000 2020-08-28 06:03:45         100.0  \n",
       "2 2020-08-25 13:47:34     0.90157 2020-09-08 12:20:43      100000.0  \n",
       "3 2020-08-28 02:46:57  1926.68000 2020-08-28 02:51:13         100.0  \n",
       "4 2020-08-11 09:27:28  1999.12000 2020-08-11 09:27:54         100.0  "
      ]
     },
     "execution_count": 352,
     "metadata": {},
     "output_type": "execute_result"
    }
   ],
   "source": [
    "trades.head(5)"
   ]
  },
  {
   "cell_type": "markdown",
   "metadata": {},
   "source": [
    "### Please look for unexpected strings, unexpected numerical values, and unexpected dates. "
   ]
  },
  {
   "cell_type": "markdown",
   "metadata": {},
   "source": [
    "conclusions:\n",
    "\n",
    "1. users table has duplications\n",
    "\n",
    "2. 36 trades has open_time no smaller than close_time\n",
    "\n",
    "3. 7 trades have no contractsize value\n",
    "\n",
    "4. 11411 open_price have inconsistent digits\n",
    "\n",
    "5. found some unexpected character in symbol e.g \"USD,CHF\"\n",
    "\n",
    "6. found 1 trade with volume = 0"
   ]
  },
  {
   "cell_type": "markdown",
   "metadata": {},
   "source": [
    "#### 1. check duplicated user "
   ]
  },
  {
   "cell_type": "code",
   "execution_count": 353,
   "metadata": {},
   "outputs": [
    {
     "data": {
      "text/plain": [
       "Index(['login_hash', 'server_hash', 'country_hash', 'currency', 'enable'], dtype='object')"
      ]
     },
     "execution_count": 353,
     "metadata": {},
     "output_type": "execute_result"
    }
   ],
   "source": [
    "users.columns"
   ]
  },
  {
   "cell_type": "code",
   "execution_count": 354,
   "metadata": {},
   "outputs": [
    {
     "data": {
      "text/plain": [
       "True"
      ]
     },
     "execution_count": 354,
     "metadata": {},
     "output_type": "execute_result"
    }
   ],
   "source": [
    "users.duplicated().any()"
   ]
  },
  {
   "cell_type": "code",
   "execution_count": 355,
   "metadata": {},
   "outputs": [],
   "source": [
    "#drop duplicates\n",
    "users.drop_duplicates(inplace=True)"
   ]
  },
  {
   "cell_type": "markdown",
   "metadata": {},
   "source": [
    "#### 2. check if open_time is smaller than close_time"
   ]
  },
  {
   "cell_type": "code",
   "execution_count": 356,
   "metadata": {},
   "outputs": [
    {
     "name": "stdout",
     "output_type": "stream",
     "text": [
      "found 36 trades with open_time larger than or equal to close_time\n"
     ]
    },
    {
     "data": {
      "text/html": [
       "<div>\n",
       "<style scoped>\n",
       "    .dataframe tbody tr th:only-of-type {\n",
       "        vertical-align: middle;\n",
       "    }\n",
       "\n",
       "    .dataframe tbody tr th {\n",
       "        vertical-align: top;\n",
       "    }\n",
       "\n",
       "    .dataframe thead th {\n",
       "        text-align: right;\n",
       "    }\n",
       "</style>\n",
       "<table border=\"1\" class=\"dataframe\">\n",
       "  <thead>\n",
       "    <tr style=\"text-align: right;\">\n",
       "      <th></th>\n",
       "      <th>login_hash</th>\n",
       "      <th>ticket_hash</th>\n",
       "      <th>server_hash</th>\n",
       "      <th>symbol</th>\n",
       "      <th>digits</th>\n",
       "      <th>cmd</th>\n",
       "      <th>volume</th>\n",
       "      <th>open_time</th>\n",
       "      <th>open_price</th>\n",
       "      <th>close_time</th>\n",
       "      <th>contractsize</th>\n",
       "    </tr>\n",
       "  </thead>\n",
       "  <tbody>\n",
       "    <tr>\n",
       "      <th>839</th>\n",
       "      <td>08ECA1BC6F7779D852729F929080E6D8</td>\n",
       "      <td>6332934079F7D7361957A64F03A0C8DF</td>\n",
       "      <td>3D1F7E00251C43107EF39F55300781DB</td>\n",
       "      <td>EURUSD</td>\n",
       "      <td>5</td>\n",
       "      <td>1</td>\n",
       "      <td>3</td>\n",
       "      <td>2020-08-07 16:24:08</td>\n",
       "      <td>1.17796</td>\n",
       "      <td>2020-08-07 16:24:08</td>\n",
       "      <td>100000.0</td>\n",
       "    </tr>\n",
       "    <tr>\n",
       "      <th>3117</th>\n",
       "      <td>D1AE1E57F33114C8F162F65C0ADB38E6</td>\n",
       "      <td>68ED9A4538ACEA08AE3E14F297F3FE8A</td>\n",
       "      <td>2F1CA40D76D7E6165DBA3924CE0D3B5C</td>\n",
       "      <td>XAUUSD</td>\n",
       "      <td>2</td>\n",
       "      <td>0</td>\n",
       "      <td>10</td>\n",
       "      <td>2020-08-12 04:51:49</td>\n",
       "      <td>1896.18000</td>\n",
       "      <td>2020-08-12 04:51:49</td>\n",
       "      <td>100.0</td>\n",
       "    </tr>\n",
       "  </tbody>\n",
       "</table>\n",
       "</div>"
      ],
      "text/plain": [
       "                            login_hash                       ticket_hash  \\\n",
       "839   08ECA1BC6F7779D852729F929080E6D8  6332934079F7D7361957A64F03A0C8DF   \n",
       "3117  D1AE1E57F33114C8F162F65C0ADB38E6  68ED9A4538ACEA08AE3E14F297F3FE8A   \n",
       "\n",
       "                           server_hash  symbol  digits  cmd  volume  \\\n",
       "839   3D1F7E00251C43107EF39F55300781DB  EURUSD       5    1       3   \n",
       "3117  2F1CA40D76D7E6165DBA3924CE0D3B5C  XAUUSD       2    0      10   \n",
       "\n",
       "               open_time  open_price          close_time  contractsize  \n",
       "839  2020-08-07 16:24:08     1.17796 2020-08-07 16:24:08      100000.0  \n",
       "3117 2020-08-12 04:51:49  1896.18000 2020-08-12 04:51:49         100.0  "
      ]
     },
     "execution_count": 356,
     "metadata": {},
     "output_type": "execute_result"
    }
   ],
   "source": [
    "# check open_time >= close_time\n",
    "time_inconsistent_trades = trades[trades['open_time'] >= trades['close_time']]\n",
    "print(f'found {len(time_inconsistent_trades)} trades with open_time larger than or equal to close_time')\n",
    "time_inconsistent_trades.head(2)"
   ]
  },
  {
   "cell_type": "markdown",
   "metadata": {},
   "source": [
    "#### 3. Column Null Check"
   ]
  },
  {
   "cell_type": "code",
   "execution_count": 357,
   "metadata": {},
   "outputs": [
    {
     "data": {
      "text/plain": [
       "login_hash      False\n",
       "ticket_hash     False\n",
       "server_hash     False\n",
       "symbol          False\n",
       "digits          False\n",
       "cmd             False\n",
       "volume          False\n",
       "open_time       False\n",
       "open_price      False\n",
       "close_time      False\n",
       "contractsize     True\n",
       "dtype: bool"
      ]
     },
     "execution_count": 357,
     "metadata": {},
     "output_type": "execute_result"
    }
   ],
   "source": [
    "#null check\n",
    "trades.isnull().any(axis=0)"
   ]
  },
  {
   "cell_type": "code",
   "execution_count": 358,
   "metadata": {},
   "outputs": [
    {
     "name": "stdout",
     "output_type": "stream",
     "text": [
      "found 7 trades without contractsize value\n"
     ]
    },
    {
     "data": {
      "text/html": [
       "<div>\n",
       "<style scoped>\n",
       "    .dataframe tbody tr th:only-of-type {\n",
       "        vertical-align: middle;\n",
       "    }\n",
       "\n",
       "    .dataframe tbody tr th {\n",
       "        vertical-align: top;\n",
       "    }\n",
       "\n",
       "    .dataframe thead th {\n",
       "        text-align: right;\n",
       "    }\n",
       "</style>\n",
       "<table border=\"1\" class=\"dataframe\">\n",
       "  <thead>\n",
       "    <tr style=\"text-align: right;\">\n",
       "      <th></th>\n",
       "      <th>login_hash</th>\n",
       "      <th>ticket_hash</th>\n",
       "      <th>server_hash</th>\n",
       "      <th>symbol</th>\n",
       "      <th>digits</th>\n",
       "      <th>cmd</th>\n",
       "      <th>volume</th>\n",
       "      <th>open_time</th>\n",
       "      <th>open_price</th>\n",
       "      <th>close_time</th>\n",
       "      <th>contractsize</th>\n",
       "    </tr>\n",
       "  </thead>\n",
       "  <tbody>\n",
       "    <tr>\n",
       "      <th>869</th>\n",
       "      <td>2BCA9F6675B4F907E51DE5570E443D2B</td>\n",
       "      <td>B883EA07D74C0EB619A7ECC92F59312C</td>\n",
       "      <td>2F1CA40D76D7E6165DBA3924CE0D3B5C</td>\n",
       "      <td>COFFEE</td>\n",
       "      <td>2</td>\n",
       "      <td>1</td>\n",
       "      <td>100</td>\n",
       "      <td>2020-08-19 15:46:03</td>\n",
       "      <td>121.37</td>\n",
       "      <td>2020-08-19 16:26:32</td>\n",
       "      <td>NaN</td>\n",
       "    </tr>\n",
       "    <tr>\n",
       "      <th>6752</th>\n",
       "      <td>32DE9EECD10691C33D28F716CC255364</td>\n",
       "      <td>7EB45147326758A1128032D6D67E2235</td>\n",
       "      <td>3D1F7E00251C43107EF39F55300781DB</td>\n",
       "      <td>COFFEE</td>\n",
       "      <td>2</td>\n",
       "      <td>0</td>\n",
       "      <td>100</td>\n",
       "      <td>2020-08-11 16:33:22</td>\n",
       "      <td>112.89</td>\n",
       "      <td>2020-08-12 16:51:29</td>\n",
       "      <td>NaN</td>\n",
       "    </tr>\n",
       "  </tbody>\n",
       "</table>\n",
       "</div>"
      ],
      "text/plain": [
       "                            login_hash                       ticket_hash  \\\n",
       "869   2BCA9F6675B4F907E51DE5570E443D2B  B883EA07D74C0EB619A7ECC92F59312C   \n",
       "6752  32DE9EECD10691C33D28F716CC255364  7EB45147326758A1128032D6D67E2235   \n",
       "\n",
       "                           server_hash  symbol  digits  cmd  volume  \\\n",
       "869   2F1CA40D76D7E6165DBA3924CE0D3B5C  COFFEE       2    1     100   \n",
       "6752  3D1F7E00251C43107EF39F55300781DB  COFFEE       2    0     100   \n",
       "\n",
       "               open_time  open_price          close_time  contractsize  \n",
       "869  2020-08-19 15:46:03      121.37 2020-08-19 16:26:32           NaN  \n",
       "6752 2020-08-11 16:33:22      112.89 2020-08-12 16:51:29           NaN  "
      ]
     },
     "execution_count": 358,
     "metadata": {},
     "output_type": "execute_result"
    }
   ],
   "source": [
    "non_contractsize_trades = trades[trades['contractsize'].isnull()]\n",
    "print(f'found {len(non_contractsize_trades)} trades without contractsize value')\n",
    "non_contractsize_trades.head(2)"
   ]
  },
  {
   "cell_type": "markdown",
   "metadata": {},
   "source": [
    "#### 4. check if \"digit\" field align with read digits of open_price"
   ]
  },
  {
   "cell_type": "code",
   "execution_count": 382,
   "metadata": {},
   "outputs": [
    {
     "name": "stdout",
     "output_type": "stream",
     "text": [
      "found 11411 trades with inconsistent open_price digits\n"
     ]
    },
    {
     "data": {
      "text/html": [
       "<div>\n",
       "<style scoped>\n",
       "    .dataframe tbody tr th:only-of-type {\n",
       "        vertical-align: middle;\n",
       "    }\n",
       "\n",
       "    .dataframe tbody tr th {\n",
       "        vertical-align: top;\n",
       "    }\n",
       "\n",
       "    .dataframe thead th {\n",
       "        text-align: right;\n",
       "    }\n",
       "</style>\n",
       "<table border=\"1\" class=\"dataframe\">\n",
       "  <thead>\n",
       "    <tr style=\"text-align: right;\">\n",
       "      <th></th>\n",
       "      <th>login_hash</th>\n",
       "      <th>ticket_hash</th>\n",
       "      <th>server_hash</th>\n",
       "      <th>symbol</th>\n",
       "      <th>digits</th>\n",
       "      <th>cmd</th>\n",
       "      <th>volume</th>\n",
       "      <th>open_time</th>\n",
       "      <th>open_price</th>\n",
       "      <th>close_time</th>\n",
       "      <th>contractsize</th>\n",
       "      <th>num_digits</th>\n",
       "    </tr>\n",
       "  </thead>\n",
       "  <tbody>\n",
       "    <tr>\n",
       "      <th>9</th>\n",
       "      <td>275B715D599E43F0D6333F79AE4F117D</td>\n",
       "      <td>39B33A606DDA5BD4C2F78A102AA29E5F</td>\n",
       "      <td>2F1CA40D76D7E6165DBA3924CE0D3B5C</td>\n",
       "      <td>XAUUSD</td>\n",
       "      <td>2</td>\n",
       "      <td>0</td>\n",
       "      <td>12</td>\n",
       "      <td>2020-08-26 14:55:28</td>\n",
       "      <td>1916.9000</td>\n",
       "      <td>2020-08-26 15:15:32</td>\n",
       "      <td>100.0</td>\n",
       "      <td>1</td>\n",
       "    </tr>\n",
       "    <tr>\n",
       "      <th>25</th>\n",
       "      <td>18D4C2E739573770F9DF198F0E51C1B9</td>\n",
       "      <td>90E74D3BFAEB3FA020A45C5B68FCADBE</td>\n",
       "      <td>3D1F7E00251C43107EF39F55300781DB</td>\n",
       "      <td>AUDUSD</td>\n",
       "      <td>5</td>\n",
       "      <td>1</td>\n",
       "      <td>1</td>\n",
       "      <td>2020-08-24 17:00:17</td>\n",
       "      <td>0.7175</td>\n",
       "      <td>2020-08-24 17:56:28</td>\n",
       "      <td>100000.0</td>\n",
       "      <td>4</td>\n",
       "    </tr>\n",
       "  </tbody>\n",
       "</table>\n",
       "</div>"
      ],
      "text/plain": [
       "                          login_hash                       ticket_hash  \\\n",
       "9   275B715D599E43F0D6333F79AE4F117D  39B33A606DDA5BD4C2F78A102AA29E5F   \n",
       "25  18D4C2E739573770F9DF198F0E51C1B9  90E74D3BFAEB3FA020A45C5B68FCADBE   \n",
       "\n",
       "                         server_hash  symbol  digits  cmd  volume  \\\n",
       "9   2F1CA40D76D7E6165DBA3924CE0D3B5C  XAUUSD       2    0      12   \n",
       "25  3D1F7E00251C43107EF39F55300781DB  AUDUSD       5    1       1   \n",
       "\n",
       "             open_time  open_price          close_time  contractsize  \\\n",
       "9  2020-08-26 14:55:28   1916.9000 2020-08-26 15:15:32         100.0   \n",
       "25 2020-08-24 17:00:17      0.7175 2020-08-24 17:56:28      100000.0   \n",
       "\n",
       "    num_digits  \n",
       "9            1  \n",
       "25           4  "
      ]
     },
     "execution_count": 382,
     "metadata": {},
     "output_type": "execute_result"
    }
   ],
   "source": [
    "def significant_digits(x:str)->int:\n",
    "    if '.' in x:\n",
    "        digits = x.split('.')[1]\n",
    "        num_digits = len(digits.rstrip('0'))\n",
    "        return num_digits\n",
    "    return 0\n",
    "trades['num_digits'] = trades['open_price'].apply(lambda x:significant_digits(str(x)))\n",
    "digits_inconsistent_trade = trades[trades['num_digits']!=trades['digits']]\n",
    "print(f'found {len(digits_inconsistent_trade)} trades with inconsistent open_price digits')\n",
    "digits_inconsistent_trade.head(2)"
   ]
  },
  {
   "cell_type": "markdown",
   "metadata": {},
   "source": [
    "#### 5. check unexpected character in \"symbol\""
   ]
  },
  {
   "cell_type": "code",
   "execution_count": 383,
   "metadata": {},
   "outputs": [
    {
     "name": "stdout",
     "output_type": "stream",
     "text": [
      "found 2 trades with invalid symbols\n"
     ]
    },
    {
     "data": {
      "text/html": [
       "<div>\n",
       "<style scoped>\n",
       "    .dataframe tbody tr th:only-of-type {\n",
       "        vertical-align: middle;\n",
       "    }\n",
       "\n",
       "    .dataframe tbody tr th {\n",
       "        vertical-align: top;\n",
       "    }\n",
       "\n",
       "    .dataframe thead th {\n",
       "        text-align: right;\n",
       "    }\n",
       "</style>\n",
       "<table border=\"1\" class=\"dataframe\">\n",
       "  <thead>\n",
       "    <tr style=\"text-align: right;\">\n",
       "      <th></th>\n",
       "      <th>login_hash</th>\n",
       "      <th>ticket_hash</th>\n",
       "      <th>server_hash</th>\n",
       "      <th>symbol</th>\n",
       "      <th>digits</th>\n",
       "      <th>cmd</th>\n",
       "      <th>volume</th>\n",
       "      <th>open_time</th>\n",
       "      <th>open_price</th>\n",
       "      <th>close_time</th>\n",
       "      <th>contractsize</th>\n",
       "      <th>num_digits</th>\n",
       "    </tr>\n",
       "  </thead>\n",
       "  <tbody>\n",
       "    <tr>\n",
       "      <th>33786</th>\n",
       "      <td>5D526301F0CCAD3D917C7EB483496B44</td>\n",
       "      <td>0813940283EF6306901B07A06C62AA21</td>\n",
       "      <td>2F1CA40D76D7E6165DBA3924CE0D3B5C</td>\n",
       "      <td>USD,CHF</td>\n",
       "      <td>5</td>\n",
       "      <td>1</td>\n",
       "      <td>7</td>\n",
       "      <td>2020-08-03 17:42:00</td>\n",
       "      <td>0.92382</td>\n",
       "      <td>2020-08-03 17:58:19</td>\n",
       "      <td>100000.0</td>\n",
       "      <td>5</td>\n",
       "    </tr>\n",
       "    <tr>\n",
       "      <th>96877</th>\n",
       "      <td>D0C0CB6E5327AA037390AB5B4CED57AF</td>\n",
       "      <td>E726FCFB16769C2712FEF8CA61F1998D</td>\n",
       "      <td>2F1CA40D76D7E6165DBA3924CE0D3B5C</td>\n",
       "      <td>USD,CHF</td>\n",
       "      <td>5</td>\n",
       "      <td>1</td>\n",
       "      <td>7</td>\n",
       "      <td>2020-08-03 17:42:00</td>\n",
       "      <td>0.92382</td>\n",
       "      <td>2020-08-03 17:58:19</td>\n",
       "      <td>100000.0</td>\n",
       "      <td>5</td>\n",
       "    </tr>\n",
       "  </tbody>\n",
       "</table>\n",
       "</div>"
      ],
      "text/plain": [
       "                             login_hash                       ticket_hash  \\\n",
       "33786  5D526301F0CCAD3D917C7EB483496B44  0813940283EF6306901B07A06C62AA21   \n",
       "96877  D0C0CB6E5327AA037390AB5B4CED57AF  E726FCFB16769C2712FEF8CA61F1998D   \n",
       "\n",
       "                            server_hash   symbol  digits  cmd  volume  \\\n",
       "33786  2F1CA40D76D7E6165DBA3924CE0D3B5C  USD,CHF       5    1       7   \n",
       "96877  2F1CA40D76D7E6165DBA3924CE0D3B5C  USD,CHF       5    1       7   \n",
       "\n",
       "                open_time  open_price          close_time  contractsize  \\\n",
       "33786 2020-08-03 17:42:00     0.92382 2020-08-03 17:58:19      100000.0   \n",
       "96877 2020-08-03 17:42:00     0.92382 2020-08-03 17:58:19      100000.0   \n",
       "\n",
       "       num_digits  \n",
       "33786           5  \n",
       "96877           5  "
      ]
     },
     "execution_count": 383,
     "metadata": {},
     "output_type": "execute_result"
    }
   ],
   "source": [
    "pattern = r'^[A-Z0-9]+$' #symbol should only contains uppper letters and numbers\n",
    "invalid_symbol_trades = trades[~trades['symbol'].apply(lambda x: bool(re.match(pattern, x)))]\n",
    "print(f'found {len(invalid_symbol_trades)} trades with invalid symbols')\n",
    "invalid_symbol_trades.head(2)"
   ]
  },
  {
   "cell_type": "markdown",
   "metadata": {},
   "source": [
    "#### 6. check if volume is less than or equal to zero"
   ]
  },
  {
   "cell_type": "code",
   "execution_count": 362,
   "metadata": {},
   "outputs": [
    {
     "name": "stdout",
     "output_type": "stream",
     "text": [
      "found 1 trades with volume equal to 0\n"
     ]
    },
    {
     "data": {
      "text/html": [
       "<div>\n",
       "<style scoped>\n",
       "    .dataframe tbody tr th:only-of-type {\n",
       "        vertical-align: middle;\n",
       "    }\n",
       "\n",
       "    .dataframe tbody tr th {\n",
       "        vertical-align: top;\n",
       "    }\n",
       "\n",
       "    .dataframe thead th {\n",
       "        text-align: right;\n",
       "    }\n",
       "</style>\n",
       "<table border=\"1\" class=\"dataframe\">\n",
       "  <thead>\n",
       "    <tr style=\"text-align: right;\">\n",
       "      <th></th>\n",
       "      <th>login_hash</th>\n",
       "      <th>ticket_hash</th>\n",
       "      <th>server_hash</th>\n",
       "      <th>symbol</th>\n",
       "      <th>digits</th>\n",
       "      <th>cmd</th>\n",
       "      <th>volume</th>\n",
       "      <th>open_time</th>\n",
       "      <th>open_price</th>\n",
       "      <th>close_time</th>\n",
       "      <th>contractsize</th>\n",
       "      <th>num_digits</th>\n",
       "    </tr>\n",
       "  </thead>\n",
       "  <tbody>\n",
       "    <tr>\n",
       "      <th>8349</th>\n",
       "      <td>9D6DFBCA3FD40AFF3097964853627A1E</td>\n",
       "      <td>BEA18D06F216DC9352B32B6CEDE0C373</td>\n",
       "      <td>54203B42716FE7C40138AE6C4913EBBC</td>\n",
       "      <td>EURUSD</td>\n",
       "      <td>5</td>\n",
       "      <td>0</td>\n",
       "      <td>0</td>\n",
       "      <td>2020-08-07 01:05:46</td>\n",
       "      <td>1.18804</td>\n",
       "      <td>2020-08-07 23:27:37</td>\n",
       "      <td>100000.0</td>\n",
       "      <td>5</td>\n",
       "    </tr>\n",
       "  </tbody>\n",
       "</table>\n",
       "</div>"
      ],
      "text/plain": [
       "                            login_hash                       ticket_hash  \\\n",
       "8349  9D6DFBCA3FD40AFF3097964853627A1E  BEA18D06F216DC9352B32B6CEDE0C373   \n",
       "\n",
       "                           server_hash  symbol  digits  cmd  volume  \\\n",
       "8349  54203B42716FE7C40138AE6C4913EBBC  EURUSD       5    0       0   \n",
       "\n",
       "               open_time  open_price          close_time  contractsize  \\\n",
       "8349 2020-08-07 01:05:46     1.18804 2020-08-07 23:27:37      100000.0   \n",
       "\n",
       "      num_digits  \n",
       "8349           5  "
      ]
     },
     "execution_count": 362,
     "metadata": {},
     "output_type": "execute_result"
    }
   ],
   "source": [
    "zero_volume_trades = trades[trades['volume']==0]\n",
    "print(f'found {len(zero_volume_trades)} trades with volume equal to 0')\n",
    "zero_volume_trades.head(2)"
   ]
  },
  {
   "cell_type": "markdown",
   "metadata": {},
   "source": [
    "## Please check that any joins you need to make to ensure data integrity."
   ]
  },
  {
   "cell_type": "markdown",
   "metadata": {},
   "source": [
    "conclusions:\n",
    "\n",
    "1. 5026 users in trades table don't have record in users table\n",
    "\n",
    "2. 570 trades are made by users whose accounts are not enabled"
   ]
  },
  {
   "cell_type": "code",
   "execution_count": 386,
   "metadata": {},
   "outputs": [
    {
     "data": {
      "text/plain": [
       "(Index(['login_hash', 'server_hash', 'country_hash', 'currency', 'enable'], dtype='object'),\n",
       " Index(['login_hash', 'ticket_hash', 'server_hash', 'symbol', 'digits', 'cmd',\n",
       "        'volume', 'open_time', 'open_price', 'close_time', 'contractsize',\n",
       "        'num_digits'],\n",
       "       dtype='object'))"
      ]
     },
     "execution_count": 386,
     "metadata": {},
     "output_type": "execute_result"
    }
   ],
   "source": [
    "users.columns, trades.columns"
   ]
  },
  {
   "cell_type": "markdown",
   "metadata": {},
   "source": [
    "#### 1. users and trades have common key login_hash,server_hash, check if they are same pairs in \"users\" and \"trades\""
   ]
  },
  {
   "cell_type": "code",
   "execution_count": 387,
   "metadata": {},
   "outputs": [
    {
     "name": "stdout",
     "output_type": "stream",
     "text": [
      "found 0 unpaired login_hash and server_hash\n"
     ]
    }
   ],
   "source": [
    "merged = pd.merge(users,trades,on = ['login_hash'],how ='inner')\n",
    "unpaired_df = merged[merged['server_hash_x'] != merged['server_hash_y']]\n",
    "print(f'found {len(unpaired_df)} unpaired login_hash and server_hash')"
   ]
  },
  {
   "cell_type": "markdown",
   "metadata": {},
   "source": [
    "#### 2. check login_hash in trade are all in users table"
   ]
  },
  {
   "cell_type": "code",
   "execution_count": 388,
   "metadata": {},
   "outputs": [
    {
     "data": {
      "text/plain": [
       "_merge\n",
       "left_only      550\n",
       "right_only    5026\n",
       "both           116\n",
       "Name: login_hash, dtype: int64"
      ]
     },
     "execution_count": 388,
     "metadata": {},
     "output_type": "execute_result"
    }
   ],
   "source": [
    "merged = pd.merge(users,trades,on = ['login_hash','server_hash'],how ='outer',indicator=True)\n",
    "merged.groupby('_merge')['login_hash'].nunique()"
   ]
  },
  {
   "cell_type": "code",
   "execution_count": 389,
   "metadata": {},
   "outputs": [],
   "source": [
    "# 550 users don't have any trading record\n",
    "# 5026 users have at least one trade record but cannot be found in \"users\" table \n",
    "# only 116 users can be found in both \"users\" table and \"trades\" table"
   ]
  },
  {
   "cell_type": "markdown",
   "metadata": {},
   "source": [
    "#### 3. Check if trades table contains users whose account is not enabled"
   ]
  },
  {
   "cell_type": "code",
   "execution_count": 390,
   "metadata": {},
   "outputs": [
    {
     "name": "stdout",
     "output_type": "stream",
     "text": [
      "found 570 trades where the users account is not enabled\n"
     ]
    },
    {
     "data": {
      "text/html": [
       "<div>\n",
       "<style scoped>\n",
       "    .dataframe tbody tr th:only-of-type {\n",
       "        vertical-align: middle;\n",
       "    }\n",
       "\n",
       "    .dataframe tbody tr th {\n",
       "        vertical-align: top;\n",
       "    }\n",
       "\n",
       "    .dataframe thead th {\n",
       "        text-align: right;\n",
       "    }\n",
       "</style>\n",
       "<table border=\"1\" class=\"dataframe\">\n",
       "  <thead>\n",
       "    <tr style=\"text-align: right;\">\n",
       "      <th></th>\n",
       "      <th>login_hash</th>\n",
       "      <th>server_hash</th>\n",
       "      <th>country_hash</th>\n",
       "      <th>currency</th>\n",
       "      <th>enable</th>\n",
       "      <th>ticket_hash</th>\n",
       "      <th>symbol</th>\n",
       "      <th>digits</th>\n",
       "      <th>cmd</th>\n",
       "      <th>volume</th>\n",
       "      <th>open_time</th>\n",
       "      <th>open_price</th>\n",
       "      <th>close_time</th>\n",
       "      <th>contractsize</th>\n",
       "      <th>num_digits</th>\n",
       "      <th>_merge</th>\n",
       "    </tr>\n",
       "  </thead>\n",
       "  <tbody>\n",
       "    <tr>\n",
       "      <th>1243</th>\n",
       "      <td>7B91CFD48D9B0A61C9720E35EA7317AB</td>\n",
       "      <td>3D1F7E00251C43107EF39F55300781DB</td>\n",
       "      <td>551FE18EF47D4E6E9D943B9A68ADA21D</td>\n",
       "      <td>USD</td>\n",
       "      <td>0.0</td>\n",
       "      <td>0A0DD0241FC1B28277E0FFD759E4E92B</td>\n",
       "      <td>XAUUSD</td>\n",
       "      <td>2.0</td>\n",
       "      <td>0.0</td>\n",
       "      <td>1.0</td>\n",
       "      <td>2020-08-05 11:54:13</td>\n",
       "      <td>2035.02</td>\n",
       "      <td>2020-08-05 12:45:41</td>\n",
       "      <td>100.0</td>\n",
       "      <td>2.0</td>\n",
       "      <td>both</td>\n",
       "    </tr>\n",
       "    <tr>\n",
       "      <th>1244</th>\n",
       "      <td>7B91CFD48D9B0A61C9720E35EA7317AB</td>\n",
       "      <td>3D1F7E00251C43107EF39F55300781DB</td>\n",
       "      <td>551FE18EF47D4E6E9D943B9A68ADA21D</td>\n",
       "      <td>USD</td>\n",
       "      <td>0.0</td>\n",
       "      <td>9AEA94E206E317BE5D247C17C8A30031</td>\n",
       "      <td>XAUUSD</td>\n",
       "      <td>2.0</td>\n",
       "      <td>0.0</td>\n",
       "      <td>1.0</td>\n",
       "      <td>2020-08-12 16:37:57</td>\n",
       "      <td>1937.58</td>\n",
       "      <td>2020-08-12 16:43:48</td>\n",
       "      <td>100.0</td>\n",
       "      <td>2.0</td>\n",
       "      <td>both</td>\n",
       "    </tr>\n",
       "  </tbody>\n",
       "</table>\n",
       "</div>"
      ],
      "text/plain": [
       "                            login_hash                       server_hash  \\\n",
       "1243  7B91CFD48D9B0A61C9720E35EA7317AB  3D1F7E00251C43107EF39F55300781DB   \n",
       "1244  7B91CFD48D9B0A61C9720E35EA7317AB  3D1F7E00251C43107EF39F55300781DB   \n",
       "\n",
       "                          country_hash currency  enable  \\\n",
       "1243  551FE18EF47D4E6E9D943B9A68ADA21D      USD     0.0   \n",
       "1244  551FE18EF47D4E6E9D943B9A68ADA21D      USD     0.0   \n",
       "\n",
       "                           ticket_hash  symbol  digits  cmd  volume  \\\n",
       "1243  0A0DD0241FC1B28277E0FFD759E4E92B  XAUUSD     2.0  0.0     1.0   \n",
       "1244  9AEA94E206E317BE5D247C17C8A30031  XAUUSD     2.0  0.0     1.0   \n",
       "\n",
       "               open_time  open_price          close_time  contractsize  \\\n",
       "1243 2020-08-05 11:54:13     2035.02 2020-08-05 12:45:41         100.0   \n",
       "1244 2020-08-12 16:37:57     1937.58 2020-08-12 16:43:48         100.0   \n",
       "\n",
       "      num_digits _merge  \n",
       "1243         2.0   both  \n",
       "1244         2.0   both  "
      ]
     },
     "execution_count": 390,
     "metadata": {},
     "output_type": "execute_result"
    }
   ],
   "source": [
    "unauthorized_trades = merged[(merged['_merge']=='both')&(merged['enable']==0)]   #euivalent to inner join on login_hash and server_hash and enable = 0\n",
    "print('found',len(unauthorized_trades), 'trades where the users account is not enabled')\n",
    "unauthorized_trades.head(2)"
   ]
  },
  {
   "cell_type": "markdown",
   "metadata": {},
   "source": [
    "### Please test any edge cases you think should be investigated to produce the highest quality possible. "
   ]
  },
  {
   "cell_type": "markdown",
   "metadata": {},
   "source": [
    "#### 1. check if cmd value has only 1 and 0 "
   ]
  },
  {
   "cell_type": "code",
   "execution_count": 391,
   "metadata": {},
   "outputs": [
    {
     "data": {
      "text/html": [
       "<div>\n",
       "<style scoped>\n",
       "    .dataframe tbody tr th:only-of-type {\n",
       "        vertical-align: middle;\n",
       "    }\n",
       "\n",
       "    .dataframe tbody tr th {\n",
       "        vertical-align: top;\n",
       "    }\n",
       "\n",
       "    .dataframe thead th {\n",
       "        text-align: right;\n",
       "    }\n",
       "</style>\n",
       "<table border=\"1\" class=\"dataframe\">\n",
       "  <thead>\n",
       "    <tr style=\"text-align: right;\">\n",
       "      <th></th>\n",
       "      <th>login_hash</th>\n",
       "      <th>ticket_hash</th>\n",
       "      <th>server_hash</th>\n",
       "      <th>symbol</th>\n",
       "      <th>digits</th>\n",
       "      <th>cmd</th>\n",
       "      <th>volume</th>\n",
       "      <th>open_time</th>\n",
       "      <th>open_price</th>\n",
       "      <th>close_time</th>\n",
       "      <th>contractsize</th>\n",
       "      <th>num_digits</th>\n",
       "    </tr>\n",
       "  </thead>\n",
       "  <tbody>\n",
       "  </tbody>\n",
       "</table>\n",
       "</div>"
      ],
      "text/plain": [
       "Empty DataFrame\n",
       "Columns: [login_hash, ticket_hash, server_hash, symbol, digits, cmd, volume, open_time, open_price, close_time, contractsize, num_digits]\n",
       "Index: []"
      ]
     },
     "execution_count": 391,
     "metadata": {},
     "output_type": "execute_result"
    }
   ],
   "source": [
    "trades[~trades['cmd'].isin([0,1])]"
   ]
  },
  {
   "cell_type": "markdown",
   "metadata": {},
   "source": [
    "#### 2. check if open_price is larger than zero"
   ]
  },
  {
   "cell_type": "code",
   "execution_count": 392,
   "metadata": {},
   "outputs": [
    {
     "data": {
      "text/html": [
       "<div>\n",
       "<style scoped>\n",
       "    .dataframe tbody tr th:only-of-type {\n",
       "        vertical-align: middle;\n",
       "    }\n",
       "\n",
       "    .dataframe tbody tr th {\n",
       "        vertical-align: top;\n",
       "    }\n",
       "\n",
       "    .dataframe thead th {\n",
       "        text-align: right;\n",
       "    }\n",
       "</style>\n",
       "<table border=\"1\" class=\"dataframe\">\n",
       "  <thead>\n",
       "    <tr style=\"text-align: right;\">\n",
       "      <th></th>\n",
       "      <th>login_hash</th>\n",
       "      <th>ticket_hash</th>\n",
       "      <th>server_hash</th>\n",
       "      <th>symbol</th>\n",
       "      <th>digits</th>\n",
       "      <th>cmd</th>\n",
       "      <th>volume</th>\n",
       "      <th>open_time</th>\n",
       "      <th>open_price</th>\n",
       "      <th>close_time</th>\n",
       "      <th>contractsize</th>\n",
       "      <th>num_digits</th>\n",
       "    </tr>\n",
       "  </thead>\n",
       "  <tbody>\n",
       "  </tbody>\n",
       "</table>\n",
       "</div>"
      ],
      "text/plain": [
       "Empty DataFrame\n",
       "Columns: [login_hash, ticket_hash, server_hash, symbol, digits, cmd, volume, open_time, open_price, close_time, contractsize, num_digits]\n",
       "Index: []"
      ]
     },
     "execution_count": 392,
     "metadata": {},
     "output_type": "execute_result"
    }
   ],
   "source": [
    "trades[trades['open_price'] < 0]"
   ]
  },
  {
   "cell_type": "markdown",
   "metadata": {},
   "source": [
    "#### 3. check if currency is valid"
   ]
  },
  {
   "cell_type": "code",
   "execution_count": 393,
   "metadata": {},
   "outputs": [
    {
     "data": {
      "text/html": [
       "<div>\n",
       "<style scoped>\n",
       "    .dataframe tbody tr th:only-of-type {\n",
       "        vertical-align: middle;\n",
       "    }\n",
       "\n",
       "    .dataframe tbody tr th {\n",
       "        vertical-align: top;\n",
       "    }\n",
       "\n",
       "    .dataframe thead th {\n",
       "        text-align: right;\n",
       "    }\n",
       "</style>\n",
       "<table border=\"1\" class=\"dataframe\">\n",
       "  <thead>\n",
       "    <tr style=\"text-align: right;\">\n",
       "      <th></th>\n",
       "      <th>login_hash</th>\n",
       "      <th>server_hash</th>\n",
       "      <th>country_hash</th>\n",
       "      <th>currency</th>\n",
       "      <th>enable</th>\n",
       "    </tr>\n",
       "  </thead>\n",
       "  <tbody>\n",
       "  </tbody>\n",
       "</table>\n",
       "</div>"
      ],
      "text/plain": [
       "Empty DataFrame\n",
       "Columns: [login_hash, server_hash, country_hash, currency, enable]\n",
       "Index: []"
      ]
     },
     "execution_count": 393,
     "metadata": {},
     "output_type": "execute_result"
    }
   ],
   "source": [
    "currmap = {'USD', 'AUD', 'EUR', 'NZD'} # for example\n",
    "users[~users['currency'].isin(currmap)]"
   ]
  },
  {
   "cell_type": "code",
   "execution_count": null,
   "metadata": {},
   "outputs": [],
   "source": []
  }
 ],
 "metadata": {
  "kernelspec": {
   "display_name": "base",
   "language": "python",
   "name": "python3"
  },
  "language_info": {
   "codemirror_mode": {
    "name": "ipython",
    "version": 3
   },
   "file_extension": ".py",
   "mimetype": "text/x-python",
   "name": "python",
   "nbconvert_exporter": "python",
   "pygments_lexer": "ipython3",
   "version": "3.7.6"
  }
 },
 "nbformat": 4,
 "nbformat_minor": 2
}
